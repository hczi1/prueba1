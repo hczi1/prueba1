{
 "cells": [
  {
   "cell_type": "code",
   "execution_count": 2,
   "metadata": {},
   "outputs": [
    {
     "name": "stdout",
     "output_type": "stream",
     "text": [
      "hola mundo\n"
     ]
    }
   ],
   "source": [
    "print(\"hola mundo\")"
   ]
  },
  {
   "cell_type": "code",
   "execution_count": 5,
   "metadata": {},
   "outputs": [
    {
     "ename": "NameError",
     "evalue": "name 'Animal' is not defined",
     "output_type": "error",
     "traceback": [
      "\u001b[1;31m---------------------------------------------------------------------------\u001b[0m",
      "\u001b[1;31mNameError\u001b[0m                                 Traceback (most recent call last)",
      "Cell \u001b[1;32mIn[5], line 8\u001b[0m\n\u001b[0;32m      5\u001b[0m         \u001b[38;5;28mself\u001b[39m\u001b[38;5;241m.\u001b[39mnombre \u001b[38;5;241m=\u001b[39m nombre \n\u001b[0;32m      6\u001b[0m         \u001b[38;5;28mself\u001b[39m\u001b[38;5;241m.\u001b[39mespecie \u001b[38;5;241m=\u001b[39m especie\n\u001b[1;32m----> 8\u001b[0m animal1\u001b[38;5;241m=\u001b[39m \u001b[43mAnimal\u001b[49m(\u001b[38;5;124m\"\u001b[39m\u001b[38;5;124mLeon\u001b[39m\u001b[38;5;124m\"\u001b[39m, \u001b[38;5;124m\"\u001b[39m\u001b[38;5;124mfelino\u001b[39m\u001b[38;5;124m\"\u001b[39m)\n\u001b[0;32m      9\u001b[0m animal2\u001b[38;5;241m=\u001b[39m Animal(\u001b[38;5;124m\"\u001b[39m\u001b[38;5;124melefante\u001b[39m\u001b[38;5;124m\"\u001b[39m, \u001b[38;5;124m\"\u001b[39m\u001b[38;5;124mpaquitendero\u001b[39m\u001b[38;5;124m\"\u001b[39m)\n",
      "\u001b[1;31mNameError\u001b[0m: name 'Animal' is not defined"
     ]
    }
   ],
   "source": [
    "class animal:\n",
    "    reino = \"Animalia\"\n",
    "\n",
    "    def __init__(self, nombre, especie):\n",
    "        self.nombre = nombre \n",
    "        self.especie = especie\n",
    "\n",
    "animal1= Animal(\"Leon\", \"felino\")\n",
    "animal2= Animal(\"elefante\", \"paquitendero\")\n"
   ]
  },
  {
   "cell_type": "code",
   "execution_count": 18,
   "metadata": {},
   "outputs": [
    {
     "name": "stdout",
     "output_type": "stream",
     "text": [
      "Hola mi nombre es gaby, tengo 18 y soy mujer\n",
      "Hola soy humano\n"
     ]
    }
   ],
   "source": [
    "class Humano:\n",
    "    def __init__(self, nombre, edad, genero):\n",
    "        self.nombre = nombre \n",
    "        self.edad= edad\n",
    "        self.genero = genero\n",
    "\n",
    "    def caract(self):\n",
    "        print(f\"Hola mi nombre es {self.nombre}, tengo {self.edad} y soy {self.genero}\")\n",
    "              \n",
    "    def saludo(self):\n",
    "        print(f\"Hola soy humano\")\n",
    "\n",
    "\n",
    "gaby =Humano(\"gaby\",18,\"mujer\")\n",
    "gaby.caract()\n",
    "gaby.saludo()"
   ]
  },
  {
   "cell_type": "code",
   "execution_count": 21,
   "metadata": {},
   "outputs": [
    {
     "name": "stdout",
     "output_type": "stream",
     "text": [
      "Hola mi nombre es ana, tengo 18 y soy Mujer\n",
      "Hola soy humano\n",
      "Hola soy programador\n",
      "Yo programo en C++\n"
     ]
    }
   ],
   "source": [
    "class programador(Humano):\n",
    "    def __init__(self,nombre, edad, genero, lenguaje):\n",
    "        super().__init__(nombre, edad, genero)\n",
    "        self.lenguaje = lenguaje\n",
    "\n",
    "    def saludo2(self):\n",
    "        print(\"Hola soy programador\")\n",
    "\n",
    "    def accion(self):\n",
    "        print(f\"Yo programo en {self.lenguaje}\")\n",
    "\n",
    "ana=programador(\"ana\",18,\"Mujer\", \"C++\")\n",
    "ana.caract()\n",
    "ana.saludo()\n",
    "ana.saludo2()\n",
    "ana.accion()\n"
   ]
  },
  {
   "cell_type": "code",
   "execution_count": null,
   "metadata": {},
   "outputs": [],
   "source": [
    "class animal:\n",
    "    def __init__(self, nombre, num_patas, color):\n",
    "        self.nombre = nombre\n",
    "        self.num_patas = num_patas\n",
    "        self.color = color \n",
    "\n",
    "    def caract(self):\n",
    "        print(F\"El Animal {self.nombre} tiene {self.num_patas} patas y es color {self.color} \")\n",
    "\n",
    "class Aves(animal): \n",
    "    def __init__(self, nombre, num_patas, pico):\n",
    "        super().__init__(nombre, num_patas, color)\n",
    "        self.pico = pico "
   ]
  },
  {
   "cell_type": "code",
   "execution_count": 7,
   "metadata": {},
   "outputs": [],
   "source": [
    "class Peces(animal): \n",
    "    def __init__(self, nombre, num_patas, tamaño):\n",
    "        super().__init__(nombre, num_patas, color)\n",
    "        self.tamaño = tamaño\n",
    "        "
   ]
  },
  {
   "cell_type": "code",
   "execution_count": null,
   "metadata": {},
   "outputs": [],
   "source": [
    "class mamiferos(animal): \n",
    "    def __init__(self, nombre, num_patas, pico):\n",
    "        super().__init__(nombre, num_patas, color)\n",
    "        self.pico = pico "
   ]
  }
 ],
 "metadata": {
  "kernelspec": {
   "display_name": "Python 3",
   "language": "python",
   "name": "python3"
  },
  "language_info": {
   "codemirror_mode": {
    "name": "ipython",
    "version": 3
   },
   "file_extension": ".py",
   "mimetype": "text/x-python",
   "name": "python",
   "nbconvert_exporter": "python",
   "pygments_lexer": "ipython3",
   "version": "3.13.1"
  }
 },
 "nbformat": 4,
 "nbformat_minor": 2
}
